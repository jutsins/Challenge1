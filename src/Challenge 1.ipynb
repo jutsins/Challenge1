{
 "cells": [
  {
   "cell_type": "markdown",
   "metadata": {},
   "source": [
    "# Business understanding"
   ]
  },
  {
   "cell_type": "markdown",
   "metadata": {},
   "source": [
    "Om een gevoel te krijgen voor de data resources die gegeven zijn, ga ik hier kijken tot welke kolommen ik toegang heb gekregen.<br>Door het zoeken van deze kolommen hoop ik erachter te komen wat voor data ik heb, en waarvoor deze data gebruikt gaat worden."
   ]
  },
  {
   "cell_type": "code",
   "execution_count": 52,
   "metadata": {},
   "outputs": [],
   "source": [
    "import pandas as pd\n",
    "import numpy as np"
   ]
  },
  {
   "cell_type": "code",
   "execution_count": 2,
   "metadata": {},
   "outputs": [],
   "source": [
    "vaste_kosten_excel = pd.ExcelFile(\"../dataset/IWVMAA VasteKosten V13.xlsx\")\n",
    "verkoop_data_excel = pd.ExcelFile(\"../dataset/IWVMAA VerkoopData V13.xlsx\")"
   ]
  },
  {
   "cell_type": "code",
   "execution_count": 3,
   "metadata": {},
   "outputs": [
    {
     "name": "stdout",
     "output_type": "stream",
     "text": [
      "['VasteKosten'] ['Orders', 'Dealers', 'Verkopers', 'Autos']\n"
     ]
    }
   ],
   "source": [
    "print(vaste_kosten_excel.sheet_names, verkoop_data_excel.sheet_names)"
   ]
  },
  {
   "cell_type": "code",
   "execution_count": 3,
   "metadata": {},
   "outputs": [],
   "source": [
    "orders_df = pd.read_excel('../dataset/IWVMAA VerkoopData V13.xlsx', sheet_name='Orders')\n",
    "dealers_df = pd.read_excel('../dataset/IWVMAA VerkoopData V13.xlsx', sheet_name='Dealers')\n",
    "verkopers_df = pd.read_excel('../dataset/IWVMAA VerkoopData V13.xlsx', sheet_name='Verkopers')\n",
    "autos_df = pd.read_excel('../dataset/IWVMAA VerkoopData V13.xlsx', sheet_name='Autos')\n",
    "vaste_kosten_df = pd.read_excel('../dataset/IWVMAA VasteKosten V13.xlsx')"
   ]
  },
  {
   "cell_type": "code",
   "execution_count": 37,
   "metadata": {},
   "outputs": [
    {
     "name": "stdout",
     "output_type": "stream",
     "text": [
      "Ordernummer                        int64\n",
      "Orderdatum                datetime64[ns]\n",
      "Jaar                               int64\n",
      "Land                              object\n",
      "Aantal                             int64\n",
      "DealerNummer                       int64\n",
      "VerkoperNummer                     int64\n",
      "AutoModel                         object\n",
      "Bemiddelingsopbrengst              int64\n",
      "VariabeleVerkoopkosten             int64\n",
      "dtype: object \n",
      "\n",
      " DealerNummer        int64\n",
      "DealerNaam         object\n",
      "DealerStad         object\n",
      "DealerLand         object\n",
      "DealerStartjaar     int64\n",
      "dtype: object \n",
      "\n",
      " VerkoperNummer               int64\n",
      "VerkoperNaam                object\n",
      "VerkoperVestiging           object\n",
      "VerkoperManager             object\n",
      "VerkoperInDienstJaar         int64\n",
      "VerkoperBeloningsschaal    float64\n",
      "dtype: object \n",
      "\n",
      " AutoModel    object\n",
      "AutoMerk     object\n",
      "dtype: object \n",
      "\n",
      " Jaar            int64\n",
      "Land           object\n",
      "VasteKosten     int64\n",
      "dtype: object\n"
     ]
    }
   ],
   "source": [
    "print(orders_df.dtypes, \"\\n\\n\",\n",
    "      dealers_df.dtypes,\"\\n\\n\",\n",
    "      verkopers_df.dtypes,\"\\n\\n\",\n",
    "      autos_df.dtypes,\"\\n\\n\",\n",
    "      vaste_kosten_df.dtypes)"
   ]
  },
  {
   "cell_type": "markdown",
   "metadata": {},
   "source": [
    "**Informatie**<br>\n",
    "Na het bepalen welke kolommen er zijn, en ik welk datatype ze staan, zou ik zeggen dat de dataframes ```orders``` ```dealers``` ```verkopers``` en ```autos``` gaan over de verkoopdata van een autohandelaar. Het dataframe ```vaste kosten``` zou kunnen gaan over de vaste kosten per verkochte auto of de kosten van het bedrijf. Om dit uit te zoeken worden de eerste 5 regels van dit dataframe hieronder weergegeven."
   ]
  },
  {
   "cell_type": "code",
   "execution_count": 48,
   "metadata": {},
   "outputs": [
    {
     "data": {
      "text/html": [
       "<div>\n",
       "<style scoped>\n",
       "    .dataframe tbody tr th:only-of-type {\n",
       "        vertical-align: middle;\n",
       "    }\n",
       "\n",
       "    .dataframe tbody tr th {\n",
       "        vertical-align: top;\n",
       "    }\n",
       "\n",
       "    .dataframe thead th {\n",
       "        text-align: right;\n",
       "    }\n",
       "</style>\n",
       "<table border=\"1\" class=\"dataframe\">\n",
       "  <thead>\n",
       "    <tr style=\"text-align: right;\">\n",
       "      <th></th>\n",
       "      <th>Jaar</th>\n",
       "      <th>Land</th>\n",
       "      <th>VasteKosten</th>\n",
       "    </tr>\n",
       "  </thead>\n",
       "  <tbody>\n",
       "    <tr>\n",
       "      <th>0</th>\n",
       "      <td>2007</td>\n",
       "      <td>Nederland</td>\n",
       "      <td>2967000</td>\n",
       "    </tr>\n",
       "    <tr>\n",
       "      <th>1</th>\n",
       "      <td>2008</td>\n",
       "      <td>Nederland</td>\n",
       "      <td>3845000</td>\n",
       "    </tr>\n",
       "    <tr>\n",
       "      <th>2</th>\n",
       "      <td>2009</td>\n",
       "      <td>Nederland</td>\n",
       "      <td>4783000</td>\n",
       "    </tr>\n",
       "    <tr>\n",
       "      <th>3</th>\n",
       "      <td>2010</td>\n",
       "      <td>Nederland</td>\n",
       "      <td>4898000</td>\n",
       "    </tr>\n",
       "    <tr>\n",
       "      <th>4</th>\n",
       "      <td>2011</td>\n",
       "      <td>Nederland</td>\n",
       "      <td>4400000</td>\n",
       "    </tr>\n",
       "  </tbody>\n",
       "</table>\n",
       "</div>"
      ],
      "text/plain": [
       "   Jaar       Land  VasteKosten\n",
       "0  2007  Nederland      2967000\n",
       "1  2008  Nederland      3845000\n",
       "2  2009  Nederland      4783000\n",
       "3  2010  Nederland      4898000\n",
       "4  2011  Nederland      4400000"
      ]
     },
     "execution_count": 48,
     "metadata": {},
     "output_type": "execute_result"
    }
   ],
   "source": [
    "vaste_kosten_df.head()"
   ]
  },
  {
   "cell_type": "markdown",
   "metadata": {},
   "source": [
    "Gekeken naar de data die hier staat, kan er worden vastgesteld dat dit de vaste kosten van het auto bedrijf per jaar zijn. "
   ]
  },
  {
   "cell_type": "markdown",
   "metadata": {},
   "source": [
    "# Data understanding"
   ]
  },
  {
   "cell_type": "markdown",
   "metadata": {},
   "source": [
    "Om de data understanding uit te voeren, zullen de vragen als beschreven in de challenge worden beantwoord:\n",
    "- Hoe ziet de data eruit? - 5 minuten\n",
    "- Zijn er business termen die moeten worden uitgelegd? Zo ja, zal dit gebeuren met behulp van een definitiesheet - onbepaald\n",
    "- Hoeveel auto's zijn er verkocht per jaar? - 8 minuten\n",
    "- Hoeveel auto’s per model zijn er verkocht? - 1 minuut\n",
    "- Wat was de omzet per land? - 2 minuten\n",
    "- Wat was de bemiddelingsopbrengst per verkopermanager? - 4 minuten\n",
    "- Wat was de dekkingsbijdrage per jaar? - 8 minuten\n",
    "\n",
    "*Per vraag staat een getal in minuten, dit geeft aan hoe lang ik bezig ben geweest met het onderzoeken van het antwoord op de betreffende vraag. Omdat ik deze opdracht alleen uitvoer, zal de doorlooptijd en de totale tijd hetzelfde zijn.*"
   ]
  },
  {
   "cell_type": "markdown",
   "metadata": {},
   "source": [
    "**Hoe ziet de data eruit?**<br>\n",
    "Om een beeld te krijgen van de data, en nog eens goed naar de kolommen te kijken, is er besloten om een kort overzicht te geven van de tabellen, met elk 1 record erin. <br>De reden hiervoor is om te kijken of de data die ik verwacht in bepaalde tabellen overeenkomt met de realiteit"
   ]
  },
  {
   "cell_type": "code",
   "execution_count": 113,
   "metadata": {},
   "outputs": [
    {
     "name": "stdout",
     "output_type": "stream",
     "text": [
      "ORDERS:\n",
      "    Ordernummer Orderdatum  Jaar       Land  Aantal  DealerNummer  \\\n",
      "0    200700001 2007-01-02  2007  Nederland       1           136   \n",
      "\n",
      "   VerkoperNummer     AutoModel  Bemiddelingsopbrengst  VariabeleVerkoopkosten  \n",
      "0              20  Toyota Yaris                    515                     248   \n",
      "DEALERS:\n",
      "    DealerNummer         DealerNaam DealerStad DealerLand  DealerStartjaar\n",
      "0             1  Autohandel Zhang   Amsterdam  Nederland             2007 \n",
      "VERKOPERS:\n",
      "    VerkoperNummer VerkoperNaam VerkoperVestiging VerkoperManager  \\\n",
      "0               1       Rekers         Nederland          Bruins   \n",
      "\n",
      "   VerkoperInDienstJaar  VerkoperBeloningsschaal  \n",
      "0                  2007                     12.0   \n",
      "AUTOS\n",
      "         AutoModel AutoMerk\n",
      "0  Alfa Romeo 147     Alfa \n",
      "VASTE KOSTEN\n",
      "    Jaar       Land  VasteKosten\n",
      "0  2007  Nederland      2967000\n"
     ]
    }
   ],
   "source": [
    "print(\"ORDERS:\\n\",orders_df.head(1), \"\\nDEALERS:\\n\",\n",
    "      dealers_df.head(1),\"\\nVERKOPERS:\\n\",\n",
    "      verkopers_df.head(1),\"\\nAUTOS\\n\",\n",
    "      autos_df.head(1),\"\\nVASTE KOSTEN\\n\",\n",
    "      vaste_kosten_df.head(1))"
   ]
  },
  {
   "cell_type": "markdown",
   "metadata": {},
   "source": [
    "**Definitiesheet**<br>\n",
    "In het onderstaande definitiesheet staan termen met een definitie ernaast. De manier waarop de definitie ontstaan is, is door googlen naar de definities van de woorden. Wanneer dit geen uitkomst biedt, zal het woord worden ontleed in delen, en zal er worden gegoogled op deze delen, om op die manier de betekenis van het gehele woord te achterhalen."
   ]
  },
  {
   "cell_type": "markdown",
   "metadata": {},
   "source": [
    "<table style=\"width:100%\">\n",
    "    <tr>\n",
    "        <th>Term</th>\n",
    "        <th>Definitie</th>\n",
    "    </tr>\n",
    "    <tr>\n",
    "        <td>VerkoperBeloningsSchaal</td>\n",
    "        <td>De schaal waarin een werknemer betaalt krijgt. Dit zal bijvoorbeeld hoger liggen wanneer een werknemer al beschikt over de juiste vaardigheden</td>\n",
    "    </tr>\n",
    "    <tr>\n",
    "        <td>Bemiddelingsopbrengst</td>\n",
    "        <td>Waarschijnlijk de opbrengst die wordt gemaakt om te bemiddelen tussen klant en dealer</td>\n",
    "    </tr>\n",
    "    <tr>\n",
    "        <td>Variabele verkoopkosten</td>\n",
    "        <td>De kosten die het kost om een product te verkopen, vaak afhangende van het totaalbedrag van de order</td>\n",
    "    </tr>\n",
    "    <tr>\n",
    "        <td>Omzet</td>\n",
    "        <td>Het totaalbedrag van verkopen (afzet * verkoopprijs)</td>\n",
    "    </tr>\n",
    "    <tr>\n",
    "        <td>Dekkingsbijdrage</td>\n",
    "        <td>De verkoopprijs min variabele kosten</td>\n",
    "    </tr>\n",
    "</table>"
   ]
  },
  {
   "cell_type": "markdown",
   "metadata": {},
   "source": [
    "**Hoeveel auto's zijn er verkocht per jaar?**"
   ]
  },
  {
   "cell_type": "code",
   "execution_count": 62,
   "metadata": {},
   "outputs": [
    {
     "data": {
      "text/html": [
       "<div>\n",
       "<style scoped>\n",
       "    .dataframe tbody tr th:only-of-type {\n",
       "        vertical-align: middle;\n",
       "    }\n",
       "\n",
       "    .dataframe tbody tr th {\n",
       "        vertical-align: top;\n",
       "    }\n",
       "\n",
       "    .dataframe thead th {\n",
       "        text-align: right;\n",
       "    }\n",
       "</style>\n",
       "<table border=\"1\" class=\"dataframe\">\n",
       "  <thead>\n",
       "    <tr style=\"text-align: right;\">\n",
       "      <th></th>\n",
       "      <th>Ordernummer</th>\n",
       "      <th>Orderdatum</th>\n",
       "      <th>Jaar</th>\n",
       "      <th>Land</th>\n",
       "      <th>Aantal</th>\n",
       "      <th>DealerNummer</th>\n",
       "      <th>VerkoperNummer</th>\n",
       "      <th>AutoModel</th>\n",
       "      <th>Bemiddelingsopbrengst</th>\n",
       "      <th>VariabeleVerkoopkosten</th>\n",
       "    </tr>\n",
       "  </thead>\n",
       "  <tbody>\n",
       "    <tr>\n",
       "      <th>0</th>\n",
       "      <td>200700001</td>\n",
       "      <td>2007-01-02</td>\n",
       "      <td>2007</td>\n",
       "      <td>Nederland</td>\n",
       "      <td>1</td>\n",
       "      <td>136</td>\n",
       "      <td>20</td>\n",
       "      <td>Toyota Yaris</td>\n",
       "      <td>515</td>\n",
       "      <td>248</td>\n",
       "    </tr>\n",
       "    <tr>\n",
       "      <th>1</th>\n",
       "      <td>200700002</td>\n",
       "      <td>2007-01-02</td>\n",
       "      <td>2007</td>\n",
       "      <td>Nederland</td>\n",
       "      <td>1</td>\n",
       "      <td>63</td>\n",
       "      <td>21</td>\n",
       "      <td>Ford Galaxy</td>\n",
       "      <td>993</td>\n",
       "      <td>458</td>\n",
       "    </tr>\n",
       "    <tr>\n",
       "      <th>2</th>\n",
       "      <td>200700003</td>\n",
       "      <td>2007-01-02</td>\n",
       "      <td>2007</td>\n",
       "      <td>Nederland</td>\n",
       "      <td>1</td>\n",
       "      <td>79</td>\n",
       "      <td>22</td>\n",
       "      <td>Volkswagen New Beetle</td>\n",
       "      <td>1037</td>\n",
       "      <td>409</td>\n",
       "    </tr>\n",
       "    <tr>\n",
       "      <th>3</th>\n",
       "      <td>200700004</td>\n",
       "      <td>2007-01-02</td>\n",
       "      <td>2007</td>\n",
       "      <td>Nederland</td>\n",
       "      <td>1</td>\n",
       "      <td>528</td>\n",
       "      <td>12</td>\n",
       "      <td>Peugeot 206</td>\n",
       "      <td>470</td>\n",
       "      <td>225</td>\n",
       "    </tr>\n",
       "    <tr>\n",
       "      <th>4</th>\n",
       "      <td>200700005</td>\n",
       "      <td>2007-01-02</td>\n",
       "      <td>2007</td>\n",
       "      <td>Nederland</td>\n",
       "      <td>1</td>\n",
       "      <td>22</td>\n",
       "      <td>1</td>\n",
       "      <td>Toyota Avensis</td>\n",
       "      <td>857</td>\n",
       "      <td>474</td>\n",
       "    </tr>\n",
       "    <tr>\n",
       "      <th>...</th>\n",
       "      <td>...</td>\n",
       "      <td>...</td>\n",
       "      <td>...</td>\n",
       "      <td>...</td>\n",
       "      <td>...</td>\n",
       "      <td>...</td>\n",
       "      <td>...</td>\n",
       "      <td>...</td>\n",
       "      <td>...</td>\n",
       "      <td>...</td>\n",
       "    </tr>\n",
       "    <tr>\n",
       "      <th>214665</th>\n",
       "      <td>201640612</td>\n",
       "      <td>2016-12-30</td>\n",
       "      <td>2016</td>\n",
       "      <td>Nederland</td>\n",
       "      <td>1</td>\n",
       "      <td>1089</td>\n",
       "      <td>390</td>\n",
       "      <td>Volkswagen Golf</td>\n",
       "      <td>701</td>\n",
       "      <td>442</td>\n",
       "    </tr>\n",
       "    <tr>\n",
       "      <th>214666</th>\n",
       "      <td>201640613</td>\n",
       "      <td>2016-12-30</td>\n",
       "      <td>2016</td>\n",
       "      <td>Nederland</td>\n",
       "      <td>1</td>\n",
       "      <td>1714</td>\n",
       "      <td>265</td>\n",
       "      <td>Jeep Grand Cherokee</td>\n",
       "      <td>1004</td>\n",
       "      <td>622</td>\n",
       "    </tr>\n",
       "    <tr>\n",
       "      <th>214667</th>\n",
       "      <td>201640614</td>\n",
       "      <td>2016-12-30</td>\n",
       "      <td>2016</td>\n",
       "      <td>Nederland</td>\n",
       "      <td>1</td>\n",
       "      <td>2042</td>\n",
       "      <td>301</td>\n",
       "      <td>BMW X5</td>\n",
       "      <td>837</td>\n",
       "      <td>559</td>\n",
       "    </tr>\n",
       "    <tr>\n",
       "      <th>214668</th>\n",
       "      <td>201640615</td>\n",
       "      <td>2016-12-30</td>\n",
       "      <td>2016</td>\n",
       "      <td>Germany</td>\n",
       "      <td>1</td>\n",
       "      <td>3539</td>\n",
       "      <td>260</td>\n",
       "      <td>Chrysler Voyager</td>\n",
       "      <td>668</td>\n",
       "      <td>470</td>\n",
       "    </tr>\n",
       "    <tr>\n",
       "      <th>214669</th>\n",
       "      <td>201640616</td>\n",
       "      <td>2016-12-30</td>\n",
       "      <td>2016</td>\n",
       "      <td>Nederland</td>\n",
       "      <td>1</td>\n",
       "      <td>4689</td>\n",
       "      <td>132</td>\n",
       "      <td>Renault Scénic</td>\n",
       "      <td>603</td>\n",
       "      <td>412</td>\n",
       "    </tr>\n",
       "  </tbody>\n",
       "</table>\n",
       "<p>214670 rows × 10 columns</p>\n",
       "</div>"
      ],
      "text/plain": [
       "        Ordernummer Orderdatum  Jaar       Land  Aantal  DealerNummer  \\\n",
       "0         200700001 2007-01-02  2007  Nederland       1           136   \n",
       "1         200700002 2007-01-02  2007  Nederland       1            63   \n",
       "2         200700003 2007-01-02  2007  Nederland       1            79   \n",
       "3         200700004 2007-01-02  2007  Nederland       1           528   \n",
       "4         200700005 2007-01-02  2007  Nederland       1            22   \n",
       "...             ...        ...   ...        ...     ...           ...   \n",
       "214665    201640612 2016-12-30  2016  Nederland       1          1089   \n",
       "214666    201640613 2016-12-30  2016  Nederland       1          1714   \n",
       "214667    201640614 2016-12-30  2016  Nederland       1          2042   \n",
       "214668    201640615 2016-12-30  2016    Germany       1          3539   \n",
       "214669    201640616 2016-12-30  2016  Nederland       1          4689   \n",
       "\n",
       "        VerkoperNummer              AutoModel  Bemiddelingsopbrengst  \\\n",
       "0                   20           Toyota Yaris                    515   \n",
       "1                   21            Ford Galaxy                    993   \n",
       "2                   22  Volkswagen New Beetle                   1037   \n",
       "3                   12            Peugeot 206                    470   \n",
       "4                    1         Toyota Avensis                    857   \n",
       "...                ...                    ...                    ...   \n",
       "214665             390        Volkswagen Golf                    701   \n",
       "214666             265    Jeep Grand Cherokee                   1004   \n",
       "214667             301                 BMW X5                    837   \n",
       "214668             260       Chrysler Voyager                    668   \n",
       "214669             132         Renault Scénic                    603   \n",
       "\n",
       "        VariabeleVerkoopkosten  \n",
       "0                          248  \n",
       "1                          458  \n",
       "2                          409  \n",
       "3                          225  \n",
       "4                          474  \n",
       "...                        ...  \n",
       "214665                     442  \n",
       "214666                     622  \n",
       "214667                     559  \n",
       "214668                     470  \n",
       "214669                     412  \n",
       "\n",
       "[214670 rows x 10 columns]"
      ]
     },
     "execution_count": 62,
     "metadata": {},
     "output_type": "execute_result"
    }
   ],
   "source": [
    "orders_df"
   ]
  },
  {
   "cell_type": "code",
   "execution_count": 95,
   "metadata": {},
   "outputs": [
    {
     "data": {
      "text/plain": [
       "Jaar\n",
       "2007     6366\n",
       "2008    10754\n",
       "2009    15037\n",
       "2010    17224\n",
       "2011    17203\n",
       "2012    19392\n",
       "2013    25683\n",
       "2014    27935\n",
       "2015    34460\n",
       "2016    40616\n",
       "Name: Aantal, dtype: int64"
      ]
     },
     "execution_count": 95,
     "metadata": {},
     "output_type": "execute_result"
    }
   ],
   "source": [
    "orders_df.groupby(orders_df[\"Jaar\"])[\"Aantal\"].sum()"
   ]
  },
  {
   "cell_type": "markdown",
   "metadata": {},
   "source": [
    "**Hoeveel auto’s per model zijn er verkocht?**"
   ]
  },
  {
   "cell_type": "code",
   "execution_count": 98,
   "metadata": {},
   "outputs": [
    {
     "data": {
      "text/plain": [
       "AutoModel\n",
       "Alfa Romeo 145/146     101\n",
       "Alfa Romeo 147         751\n",
       "Alfa Romeo 156         627\n",
       "Alfa Romeo 159         350\n",
       "Alfa Romeo 166          86\n",
       "                      ... \n",
       "Volvo V40              322\n",
       "Volvo V50             1333\n",
       "Volvo V70             2113\n",
       "Volvo XC60             101\n",
       "Volvo XC90             336\n",
       "Name: Aantal, Length: 299, dtype: int64"
      ]
     },
     "execution_count": 98,
     "metadata": {},
     "output_type": "execute_result"
    }
   ],
   "source": [
    "orders_df.groupby(orders_df[\"AutoModel\"])[\"Aantal\"].sum()"
   ]
  },
  {
   "cell_type": "markdown",
   "metadata": {},
   "source": [
    "**Wat was de omzet per land?**"
   ]
  },
  {
   "cell_type": "code",
   "execution_count": 101,
   "metadata": {},
   "outputs": [
    {
     "data": {
      "text/plain": [
       "Land\n",
       "België        7161935\n",
       "Germany      28978376\n",
       "Nederland    89887689\n",
       "Name: Bemiddelingsopbrengst, dtype: int64"
      ]
     },
     "execution_count": 101,
     "metadata": {},
     "output_type": "execute_result"
    }
   ],
   "source": [
    "orders_df.groupby(orders_df[\"Land\"])[\"Bemiddelingsopbrengst\"].sum()"
   ]
  },
  {
   "cell_type": "markdown",
   "metadata": {},
   "source": [
    "**Wat was de bemiddelingsopbrengst per verkopermanager?**"
   ]
  },
  {
   "cell_type": "code",
   "execution_count": 102,
   "metadata": {},
   "outputs": [
    {
     "data": {
      "text/html": [
       "<div>\n",
       "<style scoped>\n",
       "    .dataframe tbody tr th:only-of-type {\n",
       "        vertical-align: middle;\n",
       "    }\n",
       "\n",
       "    .dataframe tbody tr th {\n",
       "        vertical-align: top;\n",
       "    }\n",
       "\n",
       "    .dataframe thead th {\n",
       "        text-align: right;\n",
       "    }\n",
       "</style>\n",
       "<table border=\"1\" class=\"dataframe\">\n",
       "  <thead>\n",
       "    <tr style=\"text-align: right;\">\n",
       "      <th></th>\n",
       "      <th>VerkoperNummer</th>\n",
       "      <th>VerkoperNaam</th>\n",
       "      <th>VerkoperVestiging</th>\n",
       "      <th>VerkoperManager</th>\n",
       "      <th>VerkoperInDienstJaar</th>\n",
       "      <th>VerkoperBeloningsschaal</th>\n",
       "    </tr>\n",
       "  </thead>\n",
       "  <tbody>\n",
       "    <tr>\n",
       "      <th>0</th>\n",
       "      <td>1</td>\n",
       "      <td>Rekers</td>\n",
       "      <td>Nederland</td>\n",
       "      <td>Bruins</td>\n",
       "      <td>2007</td>\n",
       "      <td>12.0</td>\n",
       "    </tr>\n",
       "    <tr>\n",
       "      <th>1</th>\n",
       "      <td>2</td>\n",
       "      <td>Amjad</td>\n",
       "      <td>Nederland</td>\n",
       "      <td>Beumer</td>\n",
       "      <td>2007</td>\n",
       "      <td>11.0</td>\n",
       "    </tr>\n",
       "    <tr>\n",
       "      <th>2</th>\n",
       "      <td>3</td>\n",
       "      <td>Yildirim</td>\n",
       "      <td>Nederland</td>\n",
       "      <td>Bruins</td>\n",
       "      <td>2007</td>\n",
       "      <td>11.0</td>\n",
       "    </tr>\n",
       "    <tr>\n",
       "      <th>3</th>\n",
       "      <td>4</td>\n",
       "      <td>Blom</td>\n",
       "      <td>Nederland</td>\n",
       "      <td>Spit</td>\n",
       "      <td>2007</td>\n",
       "      <td>11.0</td>\n",
       "    </tr>\n",
       "    <tr>\n",
       "      <th>4</th>\n",
       "      <td>5</td>\n",
       "      <td>Voortman</td>\n",
       "      <td>Nederland</td>\n",
       "      <td>Bruins</td>\n",
       "      <td>2007</td>\n",
       "      <td>13.0</td>\n",
       "    </tr>\n",
       "    <tr>\n",
       "      <th>...</th>\n",
       "      <td>...</td>\n",
       "      <td>...</td>\n",
       "      <td>...</td>\n",
       "      <td>...</td>\n",
       "      <td>...</td>\n",
       "      <td>...</td>\n",
       "    </tr>\n",
       "    <tr>\n",
       "      <th>495</th>\n",
       "      <td>496</td>\n",
       "      <td>Essink</td>\n",
       "      <td>België</td>\n",
       "      <td>De Haene</td>\n",
       "      <td>2016</td>\n",
       "      <td>9.0</td>\n",
       "    </tr>\n",
       "    <tr>\n",
       "      <th>496</th>\n",
       "      <td>497</td>\n",
       "      <td>Kaam</td>\n",
       "      <td>Nederland</td>\n",
       "      <td>Bruins</td>\n",
       "      <td>2016</td>\n",
       "      <td>10.0</td>\n",
       "    </tr>\n",
       "    <tr>\n",
       "      <th>497</th>\n",
       "      <td>498</td>\n",
       "      <td>Merkel</td>\n",
       "      <td>Germany</td>\n",
       "      <td>NaN</td>\n",
       "      <td>2016</td>\n",
       "      <td>NaN</td>\n",
       "    </tr>\n",
       "    <tr>\n",
       "      <th>498</th>\n",
       "      <td>499</td>\n",
       "      <td>Rutte</td>\n",
       "      <td>Nederland</td>\n",
       "      <td>NaN</td>\n",
       "      <td>2016</td>\n",
       "      <td>NaN</td>\n",
       "    </tr>\n",
       "    <tr>\n",
       "      <th>499</th>\n",
       "      <td>500</td>\n",
       "      <td>Michel</td>\n",
       "      <td>België</td>\n",
       "      <td>NaN</td>\n",
       "      <td>2016</td>\n",
       "      <td>NaN</td>\n",
       "    </tr>\n",
       "  </tbody>\n",
       "</table>\n",
       "<p>500 rows × 6 columns</p>\n",
       "</div>"
      ],
      "text/plain": [
       "     VerkoperNummer VerkoperNaam VerkoperVestiging VerkoperManager  \\\n",
       "0                 1       Rekers         Nederland          Bruins   \n",
       "1                 2        Amjad         Nederland          Beumer   \n",
       "2                 3     Yildirim         Nederland          Bruins   \n",
       "3                 4         Blom         Nederland            Spit   \n",
       "4                 5     Voortman         Nederland          Bruins   \n",
       "..              ...          ...               ...             ...   \n",
       "495             496       Essink            België        De Haene   \n",
       "496             497         Kaam         Nederland          Bruins   \n",
       "497             498       Merkel           Germany             NaN   \n",
       "498             499        Rutte         Nederland             NaN   \n",
       "499             500       Michel            België             NaN   \n",
       "\n",
       "     VerkoperInDienstJaar  VerkoperBeloningsschaal  \n",
       "0                    2007                     12.0  \n",
       "1                    2007                     11.0  \n",
       "2                    2007                     11.0  \n",
       "3                    2007                     11.0  \n",
       "4                    2007                     13.0  \n",
       "..                    ...                      ...  \n",
       "495                  2016                      9.0  \n",
       "496                  2016                     10.0  \n",
       "497                  2016                      NaN  \n",
       "498                  2016                      NaN  \n",
       "499                  2016                      NaN  \n",
       "\n",
       "[500 rows x 6 columns]"
      ]
     },
     "execution_count": 102,
     "metadata": {},
     "output_type": "execute_result"
    }
   ],
   "source": [
    "verkopers_df"
   ]
  },
  {
   "cell_type": "code",
   "execution_count": 117,
   "metadata": {},
   "outputs": [
    {
     "data": {
      "text/plain": [
       "VerkoperManager\n",
       "Ensink       23617819\n",
       "Bruins       21860993\n",
       "Beumer       15728348\n",
       "Ter Brake    15717696\n",
       "Spit         12962833\n",
       "Postmann      9279086\n",
       "Schloss       7483117\n",
       "Krupf         4959443\n",
       "Taggert       4062594\n",
       "Schumann      3194136\n",
       "De Haene      3157446\n",
       "Mertens       2208409\n",
       "De Leeuwe     1796080\n",
       "Name: Bemiddelingsopbrengst, dtype: int64"
      ]
     },
     "execution_count": 117,
     "metadata": {},
     "output_type": "execute_result"
    }
   ],
   "source": [
    "merged_order_verkoper_dataframe = pd.merge(orders_df, verkopers_df, on=\"VerkoperNummer\")\n",
    "merged_order_verkoper_dataframe.groupby(merged_order_verkoper_dataframe[\"VerkoperManager\"])[\"Bemiddelingsopbrengst\"].sum().sort_values(ascending=False)"
   ]
  },
  {
   "cell_type": "markdown",
   "metadata": {},
   "source": [
    "**Wat was de dekkingsbijdrage per jaar?**"
   ]
  },
  {
   "cell_type": "code",
   "execution_count": 118,
   "metadata": {},
   "outputs": [
    {
     "data": {
      "text/plain": [
       "Jaar\n",
       "2007    2090379\n",
       "2008    3556385\n",
       "2009    4970514\n",
       "2010    5685075\n",
       "2011    4698456\n",
       "2012    5170553\n",
       "2013    6776225\n",
       "2014    6593262\n",
       "2015    8257552\n",
       "2016    9797420\n",
       "Name: Dekkingsbijdrage, dtype: int64"
      ]
     },
     "execution_count": 118,
     "metadata": {},
     "output_type": "execute_result"
    }
   ],
   "source": [
    "orders_df_dekkingsbijgrade=orders_df.copy()\n",
    "orders_df_dekkingsbijgrade[\"Dekkingsbijdrage\"] = orders_df_dekkingsbijgrade[\"Bemiddelingsopbrengst\"] - orders_df_dekkingsbijgrade[\"VariabeleVerkoopkosten\"]\n",
    "orders_df_dekkingsbijgrade.groupby(orders_df[\"Jaar\"])[\"Dekkingsbijdrage\"].sum()"
   ]
  },
  {
   "cell_type": "markdown",
   "metadata": {},
   "source": [
    "# Item 1 - 20 minuten"
   ]
  },
  {
   "cell_type": "markdown",
   "metadata": {},
   "source": [
    "**Jobstory**<br>\n",
    "_\"Als verkopermanager wil ik zien hoeveel mijn verkopers in 2016 verdienden\"_\n",
    "\n",
    "**Onderbouwing** <br>\n",
    "Ik heb ervoor gekozen om het **verkoopjaar 2016** te kiezen, en zal de verkopers van verkopermanager **De Haene** laten zien in deze opdracht.<br>\n",
    "Om de cijfers van de verkopers van De Haene te laten zien, zal ik gebruik maken van een **horizontale staafgrafiek**.<br>\n",
    "De reden voor het gebruik van deze grafiek is omdat deze een **snel te overzien grafiek levert bestaande uit aantallen per categorie**."
   ]
  },
  {
   "cell_type": "code",
   "execution_count": 276,
   "metadata": {},
   "outputs": [
    {
     "data": {
      "text/plain": [
       "<matplotlib.axes._subplots.AxesSubplot at 0x1dc9f65a9c8>"
      ]
     },
     "execution_count": 276,
     "metadata": {},
     "output_type": "execute_result"
    },
    {
     "data": {
      "image/png": "[encoded data removed]",
      "text/plain": [
       "<Figure size 432x288 with 1 Axes>"
      ]
     },
     "metadata": {
      "needs_background": "light"
     },
     "output_type": "display_data"
    }
   ],
   "source": [
    "verkoper_per_bemiddelingsopbrengst_haene = merged_order_verkoper_dataframe.copy()\n",
    "verkoper_per_bemiddelingsopbrengst_haene.where(verkoper_per_bemiddelingsopbrengst_haene[\"VerkoperManager\"] == \"De Haene\", inplace=True)\n",
    "verkoper_per_bemiddelingsopbrengst_haene.where(verkoper_per_bemiddelingsopbrengst_haene[\"Jaar\"] == 2016 , inplace = True)\n",
    "verkoper_per_bemiddelingsopbrengst_heane = verkoper_per_bemiddelingsopbrengst_haene.dropna()\n",
    "verkoper_per_bemiddelingsopbrengst_heane.groupby(verkoper_per_bemiddelingsopbrengst_haene[\"VerkoperNaam\"])[\"Bemiddelingsopbrengst\"].sum().sort_values(ascending=True).plot.barh()\n"
   ]
  },
  {
   "cell_type": "markdown",
   "metadata": {},
   "source": [
    "**Conclusie**<br>\n",
    "In het jaar 2016 is te concluderen dat **Waanders** het best heeft gepresteerd onder de verkopermanager De Haene.<br>Aangezien verkopers een **verkoper beloningsschaal** hebben, zal er voor waanders zeker **verhoging** hierin kunnen plaatsvinden.<br>Het valt overigens op dat **Jacobs** niet goed presteerd in vergelijking met zijn collega's. Voor het bedrijf zou het wellicht gunstig zijn om een gesprek met hem te voeren over het presteren."
   ]
  },
  {
   "cell_type": "markdown",
   "metadata": {},
   "source": [
    "# Item 2 - 25 minuten"
   ]
  },
  {
   "cell_type": "markdown",
   "metadata": {},
   "source": [
    "**Jobstory**<br>\n",
    "_\"Wat zijn de gemiddelde dekkingsbijdragen per automerk in 2014?\"_\n",
    "\n",
    "**Onderbouwing**<br>\n",
    "Voor dit item heb ik ervoor gekozen om een overzicht te leveren van het gemiddelde van de dekkingsbijdrage van verschillende automerken. De reden hiervoor is omdat dit naar mijn mening de **meeste informatie biedt**.<br> Hiernaast heb ik gekozen om als visualisatie wederom een **horizontale staafgrafiek** te gebruiken.<br> De reden voor het gebruik van deze grafiek is omdat deze een **snel te overzien grafiek levert bestaande uit aantallen per categorie**."
   ]
  },
  {
   "cell_type": "code",
   "execution_count": 275,
   "metadata": {},
   "outputs": [
    {
     "data": {
      "image/png": "[encoded data removed]",
      "text/plain": [
       "<Figure size 720x1080 with 1 Axes>"
      ]
     },
     "metadata": {
      "needs_background": "light"
     },
     "output_type": "display_data"
    }
   ],
   "source": [
    "orders_dekkingsbijdrage_auto_info = pd.merge(orders_df_dekkingsbijgrade, autos_df, on=\"AutoModel\")\n",
    "x = orders_dekkingsbijdrage_auto_info.groupby(\"AutoMerk\")[\"Dekkingsbijdrage\"].mean().sort_values(ascending=True).plot(kind='barh', figsize=(10,15))"
   ]
  },
  {
   "cell_type": "markdown",
   "metadata": {},
   "source": [
    "**Conclusie**"
   ]
  },
  {
   "cell_type": "markdown",
   "metadata": {},
   "source": [
    "Persoonlijk ben ik niet een kenner van auto's, maar ik had na het zien van de bovenstaande grafiek het vermoeden dat de ```dekkingsbijdrage``` **hoger is bij de duurdere automerken**.</br>Hierop ben ik gaan navragen bij twee studentcollega's waarvan ik weet dat ze autofan zijn. Een van hen wist mijn hypothese te bevestigen, en kon mij vertellen dat **alle merken tot aan het merk \"Smart\" over het algemeen behoren tot de premium auto's**.<br>Om vanuit de business te verklaren waarom deze duurdere auto's een hogere dekkingsbijdrage hebben, zou ik gokken dat, aangezien de database van een autohandelaar is, **de handelaar een hogere prijs vraagt om het risico wat hij loopt wanneer een duurdere auto niet goed verkoopt te mitigeren.**"
   ]
  },
  {
   "cell_type": "markdown",
   "metadata": {},
   "source": [
    "# Item 3 - 135 minuten\n",
    "**Jobstory**<br>\n",
    "_\"Als autohandelaar wil ik weten wat de procentuele groei in het aantal verkochte auto's per jaar is\"_\n",
    "\n",
    "**Verantwoording**<br>\n",
    "Ik denk dat dit de enige volledige jobstory voor dit item is waar ook veel informatie uit kan worden gehaald.<br>Voor het visualiseren van deze gegevens ga ik een **lijngrafiek** gebruiken. Dit omdat het daarmee makkelijk is om verschillen per jaar te visualiseren. "
   ]
  },
  {
   "cell_type": "code",
   "execution_count": 51,
   "metadata": {},
   "outputs": [
    {
     "data": {
      "text/plain": [
       "[Text(0, 0.5, 'Percentuele toename'), Text(0.5, 0, 'Jaar')]"
      ]
     },
     "execution_count": 51,
     "metadata": {},
     "output_type": "execute_result"
    },
    {
     "data": {
      "image/png": "[encoded data removed]",
      "text/plain": [
       "<Figure size 720x720 with 1 Axes>"
      ]
     },
     "metadata": {
      "needs_background": "light"
     },
     "output_type": "display_data"
    }
   ],
   "source": [
    "orders_df_nl = orders_df.copy()\n",
    "orders_df_be = orders_df.copy()\n",
    "orders_df_de = orders_df.copy()\n",
    "\n",
    "orders_df_nl = orders_df_nl.where(orders_df_nl[\"Land\"] == \"Nederland\").dropna()\n",
    "orders_df_be = orders_df_be.where(orders_df_be[\"Land\"] == \"België\").dropna()\n",
    "orders_df_de = orders_df_de.where(orders_df_de[\"Land\"] == \"Germany\").dropna()\n",
    "\n",
    "jaar_verkoop_nl = dict(orders_df_nl.groupby(\"Jaar\")[\"Aantal\"].sum())\n",
    "jaar_verkoop_be = dict(orders_df_be.groupby(\"Jaar\")[\"Aantal\"].sum())\n",
    "jaar_verkoop_de = dict(orders_df_de.groupby(\"Jaar\")[\"Aantal\"].sum())\n",
    "\n",
    "jaar_verkoop_list_nl = [*jaar_verkoop_nl.values()]\n",
    "jaar_verkoop_list_be = [*jaar_verkoop_be.values()]\n",
    "jaar_verkoop_list_de = [*jaar_verkoop_de.values()]\n",
    "\n",
    "def getPercentueleToename(oud, nieuw):\n",
    "    return (nieuw - oud) / oud * 100\n",
    "\n",
    "percentuele_toename_nl_list= [0] #Het eerste jaar is er geen toename\n",
    "percentuele_toename_be_list= [0,0,0,0,0,0]\n",
    "percentuele_toename_de_list= [0,0,0,0,0,0]\n",
    "\n",
    "for i in range(len(jaar_verkoop_list_nl) -1):\n",
    "    percentuele_toename_nl_list.append(round(getPercentueleToename(jaar_verkoop_list_nl[i], jaar_verkoop_list_nl[i+1])))\n",
    "    \n",
    "for i in range(len(jaar_verkoop_list_be) -1):    \n",
    "    percentuele_toename_be_list.append(round(getPercentueleToename(jaar_verkoop_list_be[i], jaar_verkoop_list_be[i+1])))\n",
    "\n",
    "for i in range(len(jaar_verkoop_list_de) -1):\n",
    "    percentuele_toename_de_list.append(round(getPercentueleToename(jaar_verkoop_list_de[i], jaar_verkoop_list_de[i+1])))\n",
    "\n",
    "toename_per_jaar = pd.DataFrame({\"Jaar\" : [*jaar_verkoop_nl.keys()], \"Percentuele toename Nederland\":percentuele_toename_nl_list, \"Percentuele toename Belgie\":percentuele_toename_be_list, \"Percentuele toename Duitsland\":percentuele_toename_de_list})\n",
    "\n",
    "\n",
    "\n",
    "plot_toename_per_jaar = toename_per_jaar.plot(x = \"Jaar\", figsize = (10,10))\n",
    "plot_toename_per_jaar.set(xlabel=\"Jaar\", ylabel=\"Percentuele toename\")"
   ]
  }
 ],
 "metadata": {
  "kernelspec": {
   "display_name": "Python 3",
   "language": "python",
   "name": "python3"
  },
  "language_info": {
   "codemirror_mode": {
    "name": "ipython",
    "version": 3
   },
   "file_extension": ".py",
   "mimetype": "text/x-python",
   "name": "python",
   "nbconvert_exporter": "python",
   "pygments_lexer": "ipython3",
   "version": "3.7.6"
  }
 },
 "nbformat": 4,
 "nbformat_minor": 4
}
