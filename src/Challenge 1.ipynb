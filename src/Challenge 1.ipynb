{
 "cells": [
  {
   "cell_type": "markdown",
   "metadata": {},
   "source": [
    "# Business understanding"
   ]
  },
  {
   "cell_type": "markdown",
   "metadata": {},
   "source": [
    "Om een gevoel te krijgen voor de data resources die gegeven zijn, ga ik hier kijken tot welke kolommen ik toegang heb gekregen.<br>Door het zoeken van deze kolommen hoop ik erachter te komen wat voor data ik heb, en waarvoor deze data gebruikt gaat worden."
   ]
  },
  {
   "cell_type": "code",
   "execution_count": 1,
   "metadata": {},
   "outputs": [],
   "source": [
    "import pandas as pd\n",
    "import seaborn as sn"
   ]
  },
  {
   "cell_type": "code",
   "execution_count": 2,
   "metadata": {},
   "outputs": [],
   "source": [
    "vaste_kosten_excel = pd.ExcelFile(\"../dataset/IWVMAA VasteKosten V13.xlsx\")\n",
    "verkoop_data_excel = pd.ExcelFile(\"../dataset/IWVMAA VerkoopData V13.xlsx\")"
   ]
  },
  {
   "cell_type": "code",
   "execution_count": 19,
   "metadata": {},
   "outputs": [
    {
     "name": "stdout",
     "output_type": "stream",
     "text": [
      "['VasteKosten'] ['Orders', 'Dealers', 'Verkopers', 'Autos']\n"
     ]
    }
   ],
   "source": [
    "print(vaste_kosten_excel.sheet_names, verkoop_data_excel.sheet_names)"
   ]
  },
  {
   "cell_type": "code",
   "execution_count": 5,
   "metadata": {},
   "outputs": [],
   "source": [
    "orders_df = pd.read_excel('../dataset/IWVMAA VerkoopData V13.xlsx', sheet_name='Orders')\n",
    "dealers_df = pd.read_excel('../dataset/IWVMAA VerkoopData V13.xlsx', sheet_name='Dealers')\n",
    "verkopers_df = pd.read_excel('../dataset/IWVMAA VerkoopData V13.xlsx', sheet_name='Verkopers')\n",
    "autos_df = pd.read_excel('../dataset/IWVMAA VerkoopData V13.xlsx', sheet_name='Autos')\n",
    "vaste_kosten_df = pd.read_excel('../dataset/IWVMAA VasteKosten V13.xlsx')"
   ]
  },
  {
   "cell_type": "code",
   "execution_count": 20,
   "metadata": {},
   "outputs": [
    {
     "name": "stdout",
     "output_type": "stream",
     "text": [
      "Index(['Ordernummer', 'Orderdatum', 'Jaar', 'Land', 'Aantal', 'DealerNummer',\n",
      "       'VerkoperNummer', 'AutoModel', 'Bemiddelingsopbrengst',\n",
      "       'VariabeleVerkoopkosten'],\n",
      "      dtype='object') \n",
      "\n",
      " Index(['DealerNummer', 'DealerNaam', 'DealerStad', 'DealerLand',\n",
      "       'DealerStartjaar'],\n",
      "      dtype='object') \n",
      "\n",
      " Index(['VerkoperNummer', 'VerkoperNaam', 'VerkoperVestiging',\n",
      "       'VerkoperManager', 'VerkoperInDienstJaar', 'VerkoperBeloningsschaal'],\n",
      "      dtype='object') \n",
      "\n",
      " Index(['AutoModel', 'AutoMerk'], dtype='object') \n",
      "\n",
      " Index(['Jaar', 'Land', 'VasteKosten'], dtype='object')\n"
     ]
    }
   ],
   "source": [
    "print(orders_df.columns, \"\\n\\n\",\n",
    "      dealers_df.columns,\"\\n\\n\",\n",
    "      verkopers_df.columns,\"\\n\\n\",\n",
    "      autos_df.columns,\"\\n\\n\",\n",
    "      vaste_kosten_df.columns)"
   ]
  },
  {
   "cell_type": "markdown",
   "metadata": {},
   "source": []
  }
 ],
 "metadata": {
  "kernelspec": {
   "display_name": "Python 3",
   "language": "python",
   "name": "python3"
  },
  "language_info": {
   "codemirror_mode": {
    "name": "ipython",
    "version": 3
   },
   "file_extension": ".py",
   "mimetype": "text/x-python",
   "name": "python",
   "nbconvert_exporter": "python",
   "pygments_lexer": "ipython3",
   "version": "3.7.6"
  }
 },
 "nbformat": 4,
 "nbformat_minor": 4
}
