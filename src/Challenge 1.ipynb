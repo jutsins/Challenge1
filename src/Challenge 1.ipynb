{
 "cells": [
  {
   "cell_type": "markdown",
   "metadata": {},
   "source": [
    "<h1>fix</h>"
   ]
  },
  {
   "cell_type": "code",
   "execution_count": null,
   "metadata": {},
   "outputs": [],
   "source": [
    "import pandas as pd\n",
    "import seaborn as sn"
   ]
  },
  {
   "cell_type": "code",
   "execution_count": null,
   "metadata": {},
   "outputs": [],
   "source": [
    "vaste_kosten_excel = pd.ExcelFile(\"../dataset/IWVMAA VasteKosten V13.xlsx\")\n",
    "verkoop_data_excel = pd.ExcelFile(\"../dataset/IWVMAA VerkoopData V13.xlsx\")"
   ]
  },
  {
   "cell_type": "code",
   "execution_count": null,
   "metadata": {},
   "outputs": [],
   "source": [
    "vaste_kosten_excel.sheet_names\n",
    "verkoop_data_excel.sheet_names"
   ]
  },
  {
   "cell_type": "code",
   "execution_count": null,
   "metadata": {},
   "outputs": [],
   "source": [
    "orders_df = pd.read_excel('../dataset/IWVMAA VerkoopData V13.xlsx', sheet_name='Orders')\n",
    "dealers_df = pd.read_excel('../dataset/IWVMAA VerkoopData V13.xlsx', sheet_name='Dealers')\n",
    "verkopers_df = pd.read_excel('../dataset/IWVMAA VerkoopData V13.xlsx', sheet_name='Verkopers')\n",
    "autos_df = pd.read_excel('../dataset/IWVMAA VerkoopData V13.xlsx', sheet_name='Autos')\n",
    "vaste_kosten_df = pd.read_excel('../dataset/IWVMAA VasteKosten V13.xlsx')"
   ]
  },
  {
   "cell_type": "code",
   "execution_count": null,
   "metadata": {},
   "outputs": [],
   "source": [
    "orders_df.columns"
   ]
  }
 ],
 "metadata": {
  "kernelspec": {
   "display_name": "Python 3",
   "language": "python",
   "name": "python3"
  },
  "language_info": {
   "codemirror_mode": {
    "name": "ipython",
    "version": 3
   },
   "file_extension": ".py",
   "mimetype": "text/x-python",
   "name": "python",
   "nbconvert_exporter": "python",
   "pygments_lexer": "ipython3",
   "version": "3.7.4"
  }
 },
 "nbformat": 4,
 "nbformat_minor": 4
}
